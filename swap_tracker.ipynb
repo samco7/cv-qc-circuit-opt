{
 "cells": [
  {
   "cell_type": "code",
   "execution_count": 1,
   "metadata": {},
   "outputs": [],
   "source": [
    "import numpy as np\n",
    "import itertools\n",
    "from matplotlib import pyplot as plt\n",
    "import seaborn as sns\n",
    "sns.set_theme()"
   ]
  },
  {
   "cell_type": "code",
   "execution_count": 2,
   "metadata": {},
   "outputs": [],
   "source": [
    "class tree_pair:\n",
    "\n",
    "    def __init__(self, n_nodes):\n",
    "        nodes = list(range(n_nodes))\n",
    "        self.first = nodes[:n_nodes//2]\n",
    "        self.second = nodes[n_nodes//2:]\n",
    "\n",
    "        self.combs = set(itertools.combinations(nodes, 4))\n",
    "\n",
    "        self.swap_cycle_count = -1\n",
    "        self.check_off()\n",
    "        self.outer_swap_count = 0\n",
    "        self.inner_swap_count = 0\n",
    "        self.root_swap_count = 0\n",
    "\n",
    "    def outer_swap(self, index):\n",
    "        if np.abs(index) > 3:\n",
    "            raise Exception('Index must be between 1 and 3.')\n",
    "        if index == 0:\n",
    "            raise Exception('Cannot swap root nodes except in root swap.')\n",
    "\n",
    "        temp = self.first[index]\n",
    "        self.first[index] = self.second[index]\n",
    "        self.second[index] = temp\n",
    "        self.outer_swap_count += 1\n",
    "\n",
    "    def inner_swap(self, index1, index2):\n",
    "        if index1 == 0 or index2 == 0:\n",
    "            raise Exception('Cannot swap root nodes except in root swap.')\n",
    "        if np.abs(index1 - index2) > 1:\n",
    "            raise Exception('Cannot swap between non-adjacent nodes.')\n",
    "        if np.abs(index1) > 3 or np.abs(index2) > 3:\n",
    "            raise Exception('Indices must be between 1 and 3.')\n",
    "\n",
    "        temp = self.first[index1]\n",
    "        self.first[index1] = self.first[index2]\n",
    "        self.first[index2] = temp\n",
    "        self.inner_swap_count += 1\n",
    "        self.swap_cycle_count += 1\n",
    "\n",
    "    def root_swap(self, index):\n",
    "        if np.abs(index) > 3:\n",
    "            raise Exception('Index must be between 1 and 3.')\n",
    "\n",
    "        temp = self.first[0]\n",
    "        self.first[0] = self.first[index]\n",
    "        self.first[index] = temp\n",
    "        self.root_swap_count += 1\n",
    "        self.swap_cycle_count += 1\n",
    "\n",
    "    def check_off(self):\n",
    "        if tuple(sorted(self.first)) not in self.combs:\n",
    "            print('repeat')\n",
    "        self.combs.discard(tuple(sorted(self.first)))\n",
    "        self.combs.discard(tuple(sorted(self.second)))\n",
    "        self.swap_cycle_count += 1"
   ]
  },
  {
   "cell_type": "code",
   "execution_count": 3,
   "metadata": {},
   "outputs": [
    {
     "name": "stdout",
     "output_type": "stream",
     "text": [
      "First tree current configuration: [0, 1, 2, 3] \n",
      "Second tree current configuration: [4, 5, 6, 7] \n",
      "Number of configurations remaining: 68\n"
     ]
    }
   ],
   "source": [
    "config = tree_pair(8)\n",
    "\n",
    "print('First tree current configuration:', config.first, '\\nSecond tree current configuration:',config.second, '\\nNumber of configurations remaining:', len(config.combs))"
   ]
  },
  {
   "cell_type": "code",
   "execution_count": 4,
   "metadata": {},
   "outputs": [
    {
     "name": "stdout",
     "output_type": "stream",
     "text": [
      "First tree current configuration: [0, 7, 2, 3] \n",
      "Second tree current configuration: [4, 1, 5, 6] \n",
      "Number of configurations remaining: 30\n"
     ]
    }
   ],
   "source": [
    "#initial pass\n",
    "config.outer_swap(1)\n",
    "config.check_off()\n",
    "config.outer_swap(2)\n",
    "config.check_off()\n",
    "config.outer_swap(1)\n",
    "config.check_off()\n",
    "config.outer_swap(3)\n",
    "config.check_off()\n",
    "config.outer_swap(2)\n",
    "config.check_off()\n",
    "config.outer_swap(1)\n",
    "config.check_off()\n",
    "config.outer_swap(2)\n",
    "config.check_off()\n",
    "\n",
    "#inner swap pass\n",
    "config.inner_swap(1, 2)\n",
    "config.outer_swap(1)\n",
    "config.check_off()\n",
    "config.outer_swap(3)\n",
    "config.check_off()\n",
    "config.outer_swap(2)\n",
    "config.outer_swap(1)\n",
    "config.check_off()\n",
    "config.outer_swap(3)\n",
    "config.check_off()\n",
    "\n",
    "#inner swap pass\n",
    "config.inner_swap(2, 3)\n",
    "config.outer_swap(2)\n",
    "config.check_off()\n",
    "config.outer_swap(1)\n",
    "config.check_off()\n",
    "config.outer_swap(2)\n",
    "config.outer_swap(3)\n",
    "config.check_off()\n",
    "config.outer_swap(1)\n",
    "config.check_off()\n",
    "\n",
    "#inner swap pass\n",
    "config.inner_swap(1, 2)\n",
    "config.outer_swap(2)\n",
    "config.check_off()\n",
    "config.outer_swap(1)\n",
    "config.outer_swap(2)\n",
    "config.outer_swap(3)\n",
    "config.check_off()\n",
    "\n",
    "#inner swap pass\n",
    "config.inner_swap(2, 3)\n",
    "config.outer_swap(2)\n",
    "config.check_off()\n",
    "config.outer_swap(1)\n",
    "config.outer_swap(2)\n",
    "config.outer_swap(3)\n",
    "config.check_off()\n",
    "\n",
    "print('First tree current configuration:', config.first, '\\nSecond tree current configuration:',config.second, '\\nNumber of configurations remaining:', len(config.combs))"
   ]
  },
  {
   "cell_type": "code",
   "execution_count": 5,
   "metadata": {},
   "outputs": [
    {
     "name": "stdout",
     "output_type": "stream",
     "text": [
      "First tree current configuration: [7, 3, 6, 5] \n",
      "Second tree current configuration: [4, 0, 2, 1] \n",
      "Number of configurations remaining: 10\n"
     ]
    }
   ],
   "source": [
    "#root swap and first outer swap\n",
    "config.root_swap(1)\n",
    "config.outer_swap(1)\n",
    "config.check_off()\n",
    "\n",
    "#initial pass\n",
    "config.outer_swap(2)\n",
    "config.check_off()\n",
    "config.outer_swap(3)\n",
    "config.check_off()\n",
    "config.outer_swap(2)\n",
    "config.check_off()\n",
    "\n",
    "#inner swap pass\n",
    "config.inner_swap(1, 2)\n",
    "config.outer_swap(2)\n",
    "config.check_off()\n",
    "config.outer_swap(3)\n",
    "config.check_off()\n",
    "\n",
    "#inner swap pass\n",
    "config.inner_swap(2, 3)\n",
    "config.outer_swap(2)\n",
    "config.check_off()\n",
    "config.outer_swap(3)\n",
    "config.outer_swap(2)\n",
    "config.check_off()\n",
    "\n",
    "#inner swap pass\n",
    "config.inner_swap(1, 2)\n",
    "config.outer_swap(2)\n",
    "config.check_off()\n",
    "\n",
    "#inner swap pass\n",
    "config.inner_swap(2, 3)\n",
    "config.outer_swap(3)\n",
    "config.check_off()\n",
    "\n",
    "print('First tree current configuration:', config.first, '\\nSecond tree current configuration:',config.second, '\\nNumber of configurations remaining:', len(config.combs))"
   ]
  },
  {
   "cell_type": "code",
   "execution_count": 6,
   "metadata": {},
   "outputs": [
    {
     "name": "stdout",
     "output_type": "stream",
     "text": [
      "First tree current configuration: [5, 6, 1, 2] \n",
      "Second tree current configuration: [4, 0, 3, 7] \n",
      "Number of configurations remaining: 2\n"
     ]
    }
   ],
   "source": [
    "#root swap and first outer swap\n",
    "config.root_swap(3)\n",
    "config.outer_swap(3)\n",
    "config.check_off()\n",
    "\n",
    "#initial pass\n",
    "config.outer_swap(2)\n",
    "config.check_off()\n",
    "\n",
    "#inner swap pass\n",
    "config.inner_swap(2, 3)\n",
    "config.outer_swap(2)\n",
    "config.check_off()\n",
    "\n",
    "#inner swap pass\n",
    "config.inner_swap(1, 2)\n",
    "config.outer_swap(2)\n",
    "config.check_off()\n",
    "\n",
    "print('First tree current configuration:', config.first, '\\nSecond tree current configuration:',config.second, '\\nNumber of configurations remaining:', len(config.combs))"
   ]
  },
  {
   "cell_type": "code",
   "execution_count": 7,
   "metadata": {},
   "outputs": [
    {
     "name": "stdout",
     "output_type": "stream",
     "text": [
      "First tree current configuration: [2, 6, 3, 1] \n",
      "Second tree current configuration: [4, 0, 5, 7] \n",
      "Number of configurations remaining: 0\n"
     ]
    }
   ],
   "source": [
    "#root swap and inner swap together to deal with last two combinations\n",
    "config.root_swap(3)\n",
    "config.inner_swap(2, 3)\n",
    "config.outer_swap(2)\n",
    "config.check_off()\n",
    "\n",
    "print('First tree current configuration:', config.first, '\\nSecond tree current configuration:',config.second, '\\nNumber of configurations remaining:', len(config.combs))"
   ]
  },
  {
   "cell_type": "code",
   "execution_count": 8,
   "metadata": {},
   "outputs": [
    {
     "name": "stdout",
     "output_type": "stream",
     "text": [
      "Outer SWAP count: 41\n",
      "Inner SWAP count: 11\n",
      "Root SWAP count: 3\n",
      "Total number of SWAP cycles: 48\n"
     ]
    }
   ],
   "source": [
    "print('Outer SWAP count:', config.outer_swap_count)\n",
    "print('Inner SWAP count:', config.inner_swap_count)\n",
    "print('Root SWAP count:', config.root_swap_count)\n",
    "print('Total number of SWAP cycles:', config.swap_cycle_count)"
   ]
  }
 ],
 "metadata": {
  "kernelspec": {
   "display_name": "base",
   "language": "python",
   "name": "python3"
  },
  "language_info": {
   "codemirror_mode": {
    "name": "ipython",
    "version": 3
   },
   "file_extension": ".py",
   "mimetype": "text/x-python",
   "name": "python",
   "nbconvert_exporter": "python",
   "pygments_lexer": "ipython3",
   "version": "3.11.8"
  }
 },
 "nbformat": 4,
 "nbformat_minor": 2
}
